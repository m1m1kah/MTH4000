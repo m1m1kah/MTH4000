{
 "cells": [
  {
   "cell_type": "markdown",
   "metadata": {
    "slideshow": {
     "slide_type": "-"
    }
   },
   "source": [
    "# MTH5001 Introduction to Computer Programming - Lab 6\n",
    "Dr Matthew Lewis and Prof. Thomas Prellberg\n",
    "\n",
    "## Exercises"
   ]
  },
  {
   "cell_type": "markdown",
   "metadata": {},
   "source": [
    "### Exercise 1: The Collatz Conjecture"
   ]
  },
  {
   "cell_type": "markdown",
   "metadata": {},
   "source": [
    "For a positive integer $a$, consider the sequence defined by $x_0=a$ and\n",
    "\n",
    "$$x_{n+1}=\\begin{cases}3x_n+1&\\text{if $x_n$ is odd,}\\\\ \\frac{x_n}{2} &\\text{if $x_n$ is even.}\\end{cases}$$\n",
    "\n",
    "The [Collatz Conjecture](http://en.wikipedia.org/wiki/Collatz_conjecture) states that this sequence will *always* reach $1$, no matter what the given value of $a$ is."
   ]
  },
  {
   "cell_type": "markdown",
   "metadata": {},
   "source": [
    "#### Exercise 1.a:\n",
    "\n",
    "Write a Python function `f(x)` that computes the function $f:\\mathbb Z\\to\\mathbb Z$ given by \n",
    "\n",
    "$$f(x)=\\begin{cases}3x+1&\\text{if $x$ is odd,}\\\\ \\frac{x}{2} &\\text{if $x$ is even.}\\end{cases}$$\n",
    "\n",
    "Test this function by computing $f(n)$ for $1\\leq n\\leq 20$.\n",
    "\n",
    "(Note that the output should be integer, not floating point!)"
   ]
  },
  {
   "cell_type": "code",
   "execution_count": 2,
   "metadata": {
    "ExecuteTime": {
     "end_time": "2023-10-23T14:23:46.754865Z",
     "start_time": "2023-10-23T14:23:46.740480Z"
    },
    "scrolled": false
   },
   "outputs": [
    {
     "name": "stdout",
     "output_type": "stream",
     "text": [
      "10\n",
      "5\n",
      "16\n",
      "8\n",
      "4\n",
      "2\n",
      "1\n"
     ]
    }
   ],
   "source": [
    "def f(x):\n",
    "    if x%2== 0:\n",
    "        x = x/2\n",
    "        return int(x) \n",
    "    elif x%2 ==1:\n",
    "        x = 3*x+1\n",
    "        return int(x)\n",
    "\n",
    "\n",
    "i = 20\n",
    "while i > 1:     \n",
    "    i = f(i)\n",
    "    print(i)       "
   ]
  },
  {
   "cell_type": "markdown",
   "metadata": {},
   "source": [
    "From the output you will be able to see that iteration starting with $x=10$, say, will produce you $10\\to5\\to16\\to8\\to4\\to2\\to1\\to4\\to2\\to1\\ldots$."
   ]
  },
  {
   "cell_type": "markdown",
   "metadata": {},
   "source": [
    "### Exercise 2: Writing for and while loops"
   ]
  },
  {
   "cell_type": "markdown",
   "metadata": {},
   "source": [
    "We now write code that repeatedly applies the function `f`, defined above, to a single value in order to generate the Collatz sequence of that value.\n",
    "\n",
    "It may be helpful to remind yourself of the structure of a `for` loop.  A `for` loop contains:\n",
    "\n",
    "- `for` and `in` keywords\n",
    "- a sequence object `iterable`, such as a list, tuple or range\n",
    "- a variable `item`, which takes each value in `iterable`\n",
    "- a colon `:` at the very end of the `for` statement\n",
    "- a code block (indented 4 spaces) which executes once for each value in `iterable`"
   ]
  },
  {
   "cell_type": "markdown",
   "metadata": {},
   "source": [
    "#### Exercise 2.a:\n",
    "\n",
    "Using a `for` loop, write a function `iterate_Collatz(a,N)` that creates a list of the iterates $x_0=a,x_1,\\ldots x_N$ for $0\\leq n\\leq N$.\n",
    "\n",
    "For example, `iterate_Collatz(10,10)` should produce the output `[10, 5, 16, 8, 4, 2, 1, 4, 2, 1, 4]`"
   ]
  },
  {
   "cell_type": "code",
   "execution_count": 20,
   "metadata": {
    "ExecuteTime": {
     "end_time": "2023-10-23T14:23:46.764567Z",
     "start_time": "2023-10-23T14:23:46.757874Z"
    }
   },
   "outputs": [
    {
     "data": {
      "text/plain": [
       "[5, 16, 8, 4, 2, 1, 4, 2, 1, 4]"
      ]
     },
     "execution_count": 20,
     "metadata": {},
     "output_type": "execute_result"
    }
   ],
   "source": [
    "\n",
    "def iterate_Collatz(a,N):\n",
    "    X0 = []\n",
    "    for item in range(0,N):\n",
    "        a= f(a)\n",
    "        X0.append(a)\n",
    "    return X0\n",
    "\n",
    "iterate_Collatz(10,10)"
   ]
  },
  {
   "cell_type": "markdown",
   "metadata": {},
   "source": [
    "#### Exercise 2.b:\n",
    "\n",
    "Evaluate  this function for several values of $a$ and $N$. Try in particular $a=27$, $a=231$, and $a=703$. Try to find $N$ such that the sequence ends precisely at the first occurrence of  $1$."
   ]
  },
  {
   "cell_type": "code",
   "execution_count": 40,
   "metadata": {
    "ExecuteTime": {
     "end_time": "2023-10-23T14:23:46.773228Z",
     "start_time": "2023-10-23T14:23:46.767594Z"
    }
   },
   "outputs": [
    {
     "data": {
      "text/plain": [
       "[2110,\n",
       " 1055,\n",
       " 3166,\n",
       " 1583,\n",
       " 4750,\n",
       " 2375,\n",
       " 7126,\n",
       " 3563,\n",
       " 10690,\n",
       " 5345,\n",
       " 16036,\n",
       " 8018,\n",
       " 4009,\n",
       " 12028,\n",
       " 6014,\n",
       " 3007,\n",
       " 9022,\n",
       " 4511,\n",
       " 13534,\n",
       " 6767,\n",
       " 20302,\n",
       " 10151,\n",
       " 30454,\n",
       " 15227,\n",
       " 45682,\n",
       " 22841,\n",
       " 68524,\n",
       " 34262,\n",
       " 17131,\n",
       " 51394,\n",
       " 25697,\n",
       " 77092,\n",
       " 38546,\n",
       " 19273,\n",
       " 57820,\n",
       " 28910,\n",
       " 14455,\n",
       " 43366,\n",
       " 21683,\n",
       " 65050,\n",
       " 32525,\n",
       " 97576,\n",
       " 48788,\n",
       " 24394,\n",
       " 12197,\n",
       " 36592,\n",
       " 18296,\n",
       " 9148,\n",
       " 4574,\n",
       " 2287,\n",
       " 6862,\n",
       " 3431,\n",
       " 10294,\n",
       " 5147,\n",
       " 15442,\n",
       " 7721,\n",
       " 23164,\n",
       " 11582,\n",
       " 5791,\n",
       " 17374,\n",
       " 8687,\n",
       " 26062,\n",
       " 13031,\n",
       " 39094,\n",
       " 19547,\n",
       " 58642,\n",
       " 29321,\n",
       " 87964,\n",
       " 43982,\n",
       " 21991,\n",
       " 65974,\n",
       " 32987,\n",
       " 98962,\n",
       " 49481,\n",
       " 148444,\n",
       " 74222,\n",
       " 37111,\n",
       " 111334,\n",
       " 55667,\n",
       " 167002,\n",
       " 83501,\n",
       " 250504,\n",
       " 125252,\n",
       " 62626,\n",
       " 31313,\n",
       " 93940,\n",
       " 46970,\n",
       " 23485,\n",
       " 70456,\n",
       " 35228,\n",
       " 17614,\n",
       " 8807,\n",
       " 26422,\n",
       " 13211,\n",
       " 39634,\n",
       " 19817,\n",
       " 59452,\n",
       " 29726,\n",
       " 14863,\n",
       " 44590,\n",
       " 22295,\n",
       " 66886,\n",
       " 33443,\n",
       " 100330,\n",
       " 50165,\n",
       " 150496,\n",
       " 75248,\n",
       " 37624,\n",
       " 18812,\n",
       " 9406,\n",
       " 4703,\n",
       " 14110,\n",
       " 7055,\n",
       " 21166,\n",
       " 10583,\n",
       " 31750,\n",
       " 15875,\n",
       " 47626,\n",
       " 23813,\n",
       " 71440,\n",
       " 35720,\n",
       " 17860,\n",
       " 8930,\n",
       " 4465,\n",
       " 13396,\n",
       " 6698,\n",
       " 3349,\n",
       " 10048,\n",
       " 5024,\n",
       " 2512,\n",
       " 1256,\n",
       " 628,\n",
       " 314,\n",
       " 157,\n",
       " 472,\n",
       " 236,\n",
       " 118,\n",
       " 59,\n",
       " 178,\n",
       " 89,\n",
       " 268,\n",
       " 134,\n",
       " 67,\n",
       " 202,\n",
       " 101,\n",
       " 304,\n",
       " 152,\n",
       " 76,\n",
       " 38,\n",
       " 19,\n",
       " 58,\n",
       " 29,\n",
       " 88,\n",
       " 44,\n",
       " 22,\n",
       " 11,\n",
       " 34,\n",
       " 17,\n",
       " 52,\n",
       " 26,\n",
       " 13,\n",
       " 40,\n",
       " 20,\n",
       " 10,\n",
       " 5,\n",
       " 16,\n",
       " 8,\n",
       " 4,\n",
       " 2,\n",
       " 1]"
      ]
     },
     "execution_count": 40,
     "metadata": {},
     "output_type": "execute_result"
    }
   ],
   "source": [
    "iterate_Collatz(27,111)\n",
    "iterate_Collatz(231, 127)\n",
    "iterate_Collatz(703,170)"
   ]
  },
  {
   "cell_type": "markdown",
   "metadata": {},
   "source": [
    "#### Exercise 2.c:\n",
    "\n",
    "Using a `while` loop, write a function `iterate_Collatz2(a)` that creates a list of the iterates $x_0=a,x_1,\\ldots$ up to the first occurrence of $x_N=1$.\n",
    "\n",
    "For example, `iterate_Collatz2(10)` should produce the output `[10, 5, 16, 8, 4, 2, 1]`.\n",
    "\n",
    "For this question, it may be useful to remind yourself of the structure of a `while` loop.  A `while` loop contains:\n",
    "\n",
    "- `while` keyword\n",
    "- a logical expression followed by a colon `:`\n",
    "- a code block (indented four spaces) that is executed only if the logical expression evaluates to `True`\n",
    "- a variable in the logical expression which is updated each time through the loop (technically optional, but essential in practice)\n",
    "- Note: If the logical expression always evaluates to True, then you get an **infinite loop**."
   ]
  },
  {
   "cell_type": "code",
   "execution_count": 48,
   "metadata": {
    "ExecuteTime": {
     "end_time": "2023-10-23T14:23:46.784781Z",
     "start_time": "2023-10-23T14:23:46.776238Z"
    }
   },
   "outputs": [],
   "source": [
    "\n",
    "def iterate_Collatz2(a):\n",
    "    list_1 = [a]\n",
    "    n= 0 \n",
    "    while list_1[n] != 1:\n",
    "        a = f(a)\n",
    "        list_1.append(a)\n",
    "        n = n+1 \n",
    "        \n",
    "iterate_Collatz2(10)"
   ]
  },
  {
   "cell_type": "markdown",
   "metadata": {},
   "source": [
    "#### Exercise 2.d:\n",
    "\n",
    "Evaluate  this function for several values of $a$. Try in particular $a=27$, $a=231$, and $a=703$. "
   ]
  },
  {
   "cell_type": "code",
   "execution_count": null,
   "metadata": {
    "ExecuteTime": {
     "end_time": "2023-10-23T14:23:46.791420Z",
     "start_time": "2023-10-23T14:23:46.786790Z"
    },
    "scrolled": false
   },
   "outputs": [],
   "source": []
  },
  {
   "cell_type": "markdown",
   "metadata": {},
   "source": [
    "### Exercise 3: Recursive Functions (Revisited)\n",
    "\n",
    "As an alternative to using for and while loops, we can generate the Collatz sequence recursively as follows."
   ]
  },
  {
   "cell_type": "code",
   "execution_count": 10,
   "metadata": {
    "ExecuteTime": {
     "end_time": "2023-10-28T17:01:08.805965Z",
     "start_time": "2023-10-28T17:01:08.793909Z"
    }
   },
   "outputs": [],
   "source": [
    "def recursive_Collatz(a):\n",
    "    print(a)\n",
    "    if a!=1:\n",
    "        recursive_Collatz(f(a))"
   ]
  },
  {
   "cell_type": "markdown",
   "metadata": {},
   "source": [
    "Note that this function recurses through the Collatz iteration and stops if $a=1$ is reached. More precisely, this function accepts an integer `a`, and ***prints*** out the values  $x_{n+1}=f(x_n)$, starting with $x_0=a$ and ending with the first occurrence of $x_N=1$. Note that this function does not contain any `return` statement."
   ]
  },
  {
   "cell_type": "code",
   "execution_count": 11,
   "metadata": {
    "ExecuteTime": {
     "end_time": "2023-10-28T17:01:08.813200Z",
     "start_time": "2023-10-28T17:01:08.808973Z"
    }
   },
   "outputs": [],
   "source": [
    "#recursive_Collatz(10)"
   ]
  },
  {
   "cell_type": "markdown",
   "metadata": {},
   "source": [
    "Note that the print command in the first line of the body of the function means that the value of `a` is printed for each function call, we can therefore view the value that `a` takes through each iteration.  (It may be helpful to use the [Python Visualizer](http://www.pythontutor.com/visualize.html) to observe what's happening at each step of the above code.)"
   ]
  },
  {
   "cell_type": "markdown",
   "metadata": {},
   "source": [
    "To help you with the next task, we now consider the function `log2_int`, defined below:"
   ]
  },
  {
   "cell_type": "code",
   "execution_count": 12,
   "metadata": {
    "ExecuteTime": {
     "end_time": "2023-10-28T17:01:08.821853Z",
     "start_time": "2023-10-28T17:01:08.816210Z"
    }
   },
   "outputs": [],
   "source": [
    "def log2_int(a):\n",
    "    print(a)\n",
    "    if a==1:\n",
    "        N=0\n",
    "    else:\n",
    "        N=log2_int(a//2)+1\n",
    "    return N"
   ]
  },
  {
   "cell_type": "markdown",
   "metadata": {},
   "source": [
    "This function uses recursion to find the integer part of $\\log_2(a)$.  It does this by returning the value of a variable `N`, where `N` is assigned to the output returned by a previous call to the `log2_int` function, plus one.  When the argument returned to `log2_int` is equal to $1$, the variable `N` is assigned the value $0$ instead.\n",
    "\n",
    "Since the argument `a` is being halved after each iteration (more specifically, `a` is given the *integer part* of half its previous value), the argument `a` will always eventually reach $1$, at which point the recursion will terminate.  \n",
    "\n",
    "When this happens, `N` will be assigned the value $0$, and each time this output is fed back through a previous function call, its value will be increased by $1$.  The final value of `N` will be equal to the number of recursive calls that it took for `a` to reach the value of $1$."
   ]
  },
  {
   "cell_type": "code",
   "execution_count": 13,
   "metadata": {
    "ExecuteTime": {
     "end_time": "2023-10-28T17:01:08.840902Z",
     "start_time": "2023-10-28T17:01:08.825886Z"
    },
    "scrolled": false
   },
   "outputs": [
    {
     "name": "stdout",
     "output_type": "stream",
     "text": [
      "300\n",
      "150\n",
      "75\n",
      "37\n",
      "18\n",
      "9\n",
      "4\n",
      "2\n",
      "1\n"
     ]
    },
    {
     "data": {
      "text/plain": [
       "8"
      ]
     },
     "execution_count": 13,
     "metadata": {},
     "output_type": "execute_result"
    }
   ],
   "source": [
    "# Run this box to test the above code.\n",
    "\n",
    "log2_int(300)"
   ]
  },
  {
   "cell_type": "markdown",
   "metadata": {},
   "source": [
    "#### Exercise 3.a (advanced):\n",
    "\n",
    "Using the coding ideas employed above in `log2_int`, you should now modify `recursive_Collatz` to write a function `count_recursive_Collatz`, that accepts an integer `a`, and ***prints*** out the values  $x_{n+1}=f(x_n)$, starting with $x_0=a$ and ending with the first occurrence of $x_N=1$ and additionally ***returns*** the number of iterations $N$ as an output.\n",
    "\n",
    "For example, `count_recursive_Collatz(10)` should print out the numbers 10, 5, 16, 8, 4, 2, 1, and give as output the number of iterations, 6."
   ]
  },
  {
   "cell_type": "code",
   "execution_count": null,
   "metadata": {
    "ExecuteTime": {
     "end_time": "2023-10-28T17:00:18.983470Z",
     "start_time": "2023-10-28T17:00:18.936122Z"
    },
    "scrolled": true
   },
   "outputs": [],
   "source": [
    "def count_recursive_Collatz(a):\n",
    "    print(a)\n",
    "    "
   ]
  },
  {
   "cell_type": "markdown",
   "metadata": {},
   "source": [
    "### Exercise 4: Generating Primes"
   ]
  },
  {
   "cell_type": "markdown",
   "metadata": {},
   "source": [
    "In this exercise, we focus on different methods for generating a list of prime numbers."
   ]
  },
  {
   "cell_type": "markdown",
   "metadata": {},
   "source": [
    "#### Exercise 4.a:"
   ]
  },
  {
   "cell_type": "markdown",
   "metadata": {},
   "source": [
    "Our first method is the most direct.  We can generate a list of primes by simply considering each value $i\\in\\mathbb{N}$, and testing whether $i$ is divisible by any of the prime numbers we have already generated.  If it is not, then we add $i$ to our list of primes.\n",
    "\n",
    "Consider the following example.  `primes` is a list containing the first five prime numbers, and we wish to test whether the value $12$ could be the next prime in our list."
   ]
  },
  {
   "cell_type": "code",
   "execution_count": 14,
   "metadata": {
    "ExecuteTime": {
     "end_time": "2023-10-28T17:01:08.850326Z",
     "start_time": "2023-10-28T17:01:08.842912Z"
    }
   },
   "outputs": [
    {
     "name": "stdout",
     "output_type": "stream",
     "text": [
      "[2, 3, 5, 7, 11]\n"
     ]
    }
   ],
   "source": [
    "primes=[2,3,5,7,11]\n",
    "\n",
    "i=12\n",
    "\n",
    "x=True\n",
    "for j in primes:\n",
    "    if i%j==0:\n",
    "        x=False\n",
    "if x:\n",
    "    primes.append(i)\n",
    "    \n",
    "print(primes)"
   ]
  },
  {
   "cell_type": "markdown",
   "metadata": {},
   "source": [
    "It should come as no surprise that $i=12$ failed the test, but what actually happened?\n",
    "\n",
    "The auxiliary variable `x` is defined to have Boolean value `True`, and as we iterate the variable `j` through the list `primes`, if `j` divided `i` with zero remainder, then `x` was reassigned with Boolean value `False`.  Therefore, the only way that `x` could maintain the value `True` was if no value assigned to `j` divided `i`, meaning that `i` was indeed a prime number.\n",
    "\n",
    "In the box below, adapt the code above to append *all* prime numbers less than $100$ to the list `primes`."
   ]
  },
  {
   "cell_type": "code",
   "execution_count": 18,
   "metadata": {
    "ExecuteTime": {
     "end_time": "2023-10-23T14:23:46.845847Z",
     "start_time": "2023-10-23T14:23:46.841838Z"
    }
   },
   "outputs": [
    {
     "name": "stdout",
     "output_type": "stream",
     "text": [
      "[2, 3, 5, 7, 11]\n"
     ]
    }
   ],
   "source": [
    "primes=[2,3,5,7,11]\n",
    "\n",
    "i=[x for x in range(1,101)]\n",
    "\n",
    "x=True\n",
    "for element in i:\n",
    "    for index in primes:\n",
    "        if element%index != 0:\n",
    "            x = False \n",
    "if x:\n",
    "    primes.append(i)\n",
    "    \n",
    "print(primes)\n",
    "\n"
   ]
  },
  {
   "cell_type": "markdown",
   "metadata": {},
   "source": [
    "Note that this method prescribes an upper bound for the largest prime, but does not let us choose how many primes are contained in our list.\n",
    "\n",
    "Using a `while` loop, modify the above code to extend the list `primes` to contain *exactly* $100$ primes."
   ]
  },
  {
   "cell_type": "code",
   "execution_count": null,
   "metadata": {
    "ExecuteTime": {
     "end_time": "2023-10-23T14:23:46.858052Z",
     "start_time": "2023-10-23T14:23:46.848856Z"
    }
   },
   "outputs": [],
   "source": []
  },
  {
   "cell_type": "markdown",
   "metadata": {},
   "source": [
    "#### Exercise 4.b:"
   ]
  },
  {
   "cell_type": "markdown",
   "metadata": {},
   "source": [
    "Our second method uses the [Sieve of Eratosthenes](https://en.wikipedia.org/wiki/Sieve_of_Eratosthenes).  Given a list of integers, `l` between $2$ and some fixed value $n$, it is possible to obtain a list of primes by simply removing all non-trivial multiples of each prime, one-by-one.\n",
    "\n",
    "For instance, if we take $i=2$, then we would begin by removing all multiples of $2$ from the list (not including $2$ itself).\n",
    "\n",
    "Consider the code below:"
   ]
  },
  {
   "cell_type": "code",
   "execution_count": 6,
   "metadata": {
    "ExecuteTime": {
     "end_time": "2023-10-28T17:01:08.859123Z",
     "start_time": "2023-10-28T17:01:08.853346Z"
    }
   },
   "outputs": [
    {
     "name": "stdout",
     "output_type": "stream",
     "text": [
      "[2, 3, 5, 7, 9, 11, 13, 15, 17, 19, 21, 23, 25, 27, 29, 31, 33, 35, 37, 39, 41, 43, 45, 47, 49, 51, 53, 55, 57, 59, 61, 63, 65, 67, 69, 71, 73, 75, 77, 79, 81, 83, 85, 87, 89, 91, 93, 95, 97, 99]\n"
     ]
    }
   ],
   "source": [
    "l=list(range(2,101))\n",
    "\n",
    "i=2\n",
    "\n",
    "m=[]\n",
    "for j in l:\n",
    "    if j==i or j%i!=0:\n",
    "        m.append(j)\n",
    "        \n",
    "print(m)"
   ]
  },
  {
   "cell_type": "markdown",
   "metadata": {},
   "source": [
    "This code produces a new list `m`, which contains all the elements of `l` that are not non-trivial multiples of $2$.  \n",
    "\n",
    "Modify the above code to generate a list of prime numbers between $2$ and $100$.  \n",
    "\n",
    "(**Hint**: If the list `l` is being used as the `iterable` inside a `for` loop, it is still possible to change the value of `l` from *inside the loop*.)"
   ]
  },
  {
   "cell_type": "code",
   "execution_count": null,
   "metadata": {
    "ExecuteTime": {
     "end_time": "2023-10-23T14:23:46.875683Z",
     "start_time": "2023-10-23T14:23:46.870176Z"
    },
    "scrolled": true
   },
   "outputs": [],
   "source": []
  },
  {
   "cell_type": "markdown",
   "metadata": {},
   "source": [
    "### Exercise 5: Obtain a Github account (needed for the assessment)!"
   ]
  },
  {
   "cell_type": "markdown",
   "metadata": {},
   "source": [
    "The final assignment for this week is to obtain and update your [GitHub account](https://www.github.com/). You may wish to use your recently created email address to do so. During the week 8 test, you will need to let us know about this account by providing your the url of your github profile. You will be assessed on\n",
    "\n",
    "- having an account\n",
    "- having a personalised readme file (readme.md)\n",
    "- creating a repository \"MTH4000\" with another readme file\n"
   ]
  },
  {
   "cell_type": "markdown",
   "metadata": {},
   "source": [
    "## Submit your Jupyter Notebook to QMPLUS"
   ]
  },
  {
   "cell_type": "markdown",
   "metadata": {},
   "source": [
    "Once you are done, save the jupyter notebook and submit it to QMPLUS under Lab Report Week 6."
   ]
  }
 ],
 "metadata": {
  "kernelspec": {
   "display_name": "Python 3 (ipykernel)",
   "language": "python",
   "name": "python3"
  },
  "language_info": {
   "codemirror_mode": {
    "name": "ipython",
    "version": 3
   },
   "file_extension": ".py",
   "mimetype": "text/x-python",
   "name": "python",
   "nbconvert_exporter": "python",
   "pygments_lexer": "ipython3",
   "version": "3.9.12"
  }
 },
 "nbformat": 4,
 "nbformat_minor": 2
}
